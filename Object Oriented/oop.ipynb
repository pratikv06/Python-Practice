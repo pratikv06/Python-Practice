{
 "metadata": {
  "language_info": {
   "codemirror_mode": {
    "name": "ipython",
    "version": 3
   },
   "file_extension": ".py",
   "mimetype": "text/x-python",
   "name": "python",
   "nbconvert_exporter": "python",
   "pygments_lexer": "ipython3",
   "version": "3.8.5-final"
  },
  "orig_nbformat": 2,
  "kernelspec": {
   "name": "python_defaultSpec_1599564114190",
   "display_name": "Python 3.8.5 32-bit"
  }
 },
 "nbformat": 4,
 "nbformat_minor": 2,
 "cells": [
  {
   "cell_type": "markdown",
   "metadata": {},
   "source": [
    "# Python Object Oriented Programing"
   ]
  },
  {
   "cell_type": "markdown",
   "metadata": {},
   "source": [
    "## Class\n",
    "A class with class attribute"
   ]
  },
  {
   "cell_type": "code",
   "execution_count": null,
   "metadata": {},
   "outputs": [],
   "source": [
    "class Pizza:\n",
    "    # Class attribute\n",
    "    info = \"This ia a Pizza Class!\"\n",
    "\n",
    "# instance of class\n",
    "obj = Pizza()\n",
    "# Accessing the attribute\n",
    "obj.info"
   ]
  },
  {
   "cell_type": "markdown",
   "metadata": {},
   "source": [
    "## BuiltIn function - `__init__`  \n",
    "- initializer method (instance method) that run as soon as class is called."
   ]
  },
  {
   "cell_type": "code",
   "execution_count": null,
   "metadata": {
    "tags": []
   },
   "outputs": [],
   "source": [
    "class Pizza:\n",
    "    # Class attribute\n",
    "    info = \"This ia a Pizza Class!\"\n",
    "\n",
    "    # instance attribute\n",
    "    def __init__(self, type_):\n",
    "        self.type_ = type_\n",
    "\n",
    "# instance of class\n",
    "obj = Pizza(type_ = 'veggie')\n",
    "# Accessing the attribute\n",
    "print(f\"I want a {obj.type_} pizza.\")"
   ]
  },
  {
   "cell_type": "markdown",
   "metadata": {},
   "source": [
    "## BuiltIn function - `__call__`  \n",
    "- object() is shorthand of object.__call__()"
   ]
  },
  {
   "cell_type": "code",
   "execution_count": null,
   "metadata": {
    "tags": []
   },
   "outputs": [],
   "source": [
    "class Pizza:\n",
    "    # Class attribute\n",
    "    info = \"This ia a Pizza Class!\"\n",
    "\n",
    "    # instance attribute\n",
    "    def __init__(self, type_):\n",
    "        self.type_ = type_\n",
    "        self.shape = 'round'  # Default value\n",
    "\n",
    "    # instance method\n",
    "    def __call__(self, shape=None):\n",
    "        if shape:\n",
    "            self.shape = shape\n",
    "            return print(f'Submitting a {self.type_} pizza order with change of shape ---- {self.shape}')\n",
    "        else:\n",
    "            print(f'Submitting a {self.type_} pizza order with default shape ---- {self.shape}')\n",
    "\n",
    "# instance of class\n",
    "obj = Pizza(type_ = 'veggie')\n",
    "# Accessing the attribute\n",
    "obj()\n",
    "obj('rectangle')"
   ]
  },
  {
   "cell_type": "markdown",
   "metadata": {},
   "source": [
    "## BuiltIn function - `__repr__`  \n",
    "- object() is shorthand of object.__repr__()\n",
    "- Mainly used to see the values assigned to our variables\n",
    "- `OFFICIAL` string representation of object, manily used for debugging"
   ]
  },
  {
   "cell_type": "code",
   "execution_count": null,
   "metadata": {},
   "outputs": [],
   "source": [
    "class Pizza:\n",
    "    # Class attribute\n",
    "    info = \"This ia a Pizza Class!\"\n",
    "\n",
    "    # instance attribute\n",
    "    def __init__(self, type_):\n",
    "        self.type_ = type_\n",
    "        self.shape = 'round'  # Default value\n",
    "\n",
    "    # instance method\n",
    "    def __repr__(self):\n",
    "        return f\"type: {self.type_}, Shape: {self.shape}\"\n",
    "\n",
    "# instance of class\n",
    "obj = Pizza(type_ = 'veggie')\n",
    "# Accessing the attribute\n",
    "obj"
   ]
  },
  {
   "cell_type": "markdown",
   "metadata": {},
   "source": [
    "## BuiltIn function - `__str__`  \n",
    "- print(object) is shorthand of object.__str__()\n",
    "- Quite similar to `__repr__`\n",
    "- Can be overridden and allow more customization unless like repr\n",
    "- `INFORMAL` string representation of object"
   ]
  },
  {
   "cell_type": "code",
   "execution_count": null,
   "metadata": {
    "tags": []
   },
   "outputs": [],
   "source": [
    "class Pizza:\n",
    "    # Class attribute\n",
    "    info = \"This ia a Pizza Class!\"\n",
    "\n",
    "    # instance attribute\n",
    "    def __init__(self, type_):\n",
    "        self.type_ = type_\n",
    "        self.shape = 'round'  # Default value\n",
    "\n",
    "    # instance method\n",
    "    def __str__(self):\n",
    "        return f\"type: {self.type_}, Shape: {self.shape}\"\n",
    "\n",
    "# instance of class\n",
    "obj = Pizza(type_ = 'veggie')\n",
    "# Accessing the attribute\n",
    "print(obj)"
   ]
  },
  {
   "cell_type": "markdown",
   "metadata": {},
   "source": [
    "## BuiltIn function - `__dict__`  \n",
    "- `object.__dict__`\n",
    "- Internal Dictionary - Hold all internal variables\n",
    "- Can be used to directly change values"
   ]
  },
  {
   "cell_type": "code",
   "execution_count": null,
   "metadata": {
    "tags": []
   },
   "outputs": [],
   "source": [
    "class Pizza:\n",
    "    # Class attribute\n",
    "    info = \"This ia a Pizza Class!\"\n",
    "\n",
    "    # instance attribute\n",
    "    def __init__(self, type_, size):\n",
    "        self.type_ = type_\n",
    "        self.shape = 'round'  # Default value\n",
    "        self.size = size\n",
    "\n",
    "# instance of class\n",
    "obj = Pizza(type_='veggie', size='small')\n",
    "# Accessing the attribute\n",
    "print(obj.__dict__)\n",
    "# changing value using dict\n",
    "obj.__dict__['size'] = 'medium'\n",
    "print(obj.__dict__)"
   ]
  },
  {
   "cell_type": "markdown",
   "metadata": {},
   "source": [
    "## BuiltIn Function - `__slots__`  \n",
    "- Similar to `__dict__`  \n",
    "- Mainly used for storing data and tell python to not use dict \n",
    "- Help to optimize the performace of the class, `__dict__` waste lot of RAM"
   ]
  },
  {
   "cell_type": "code",
   "execution_count": null,
   "metadata": {
    "tags": []
   },
   "outputs": [],
   "source": [
    "class Pizza:\n",
    "    # Class attribute\n",
    "    info = \"This ia a Pizza Class!\"\n",
    "\n",
    "    # Defining slots\n",
    "    __slots__ = ['type_', 'size', 'shape']\n",
    "\n",
    "    # instance attribute\n",
    "    def __init__(self, type_, size):\n",
    "        self.type_ = type_\n",
    "        self.shape = 'round'  # Default value\n",
    "        self.size = size\n",
    "\n",
    "# instance of class\n",
    "obj = Pizza(type_='veggie', size='small')\n",
    "# Accessing the attribute\n",
    "obj.__dict__"
   ]
  },
  {
   "cell_type": "markdown",
   "metadata": {},
   "source": [
    "## Static Method\n",
    "- Decorator used to define Static Method - `@staticmethod`\n",
    "- Directly use static method without initiating the class\n",
    "- Object know nothing about the class state"
   ]
  },
  {
   "cell_type": "code",
   "execution_count": 36,
   "metadata": {},
   "outputs": [
    {
     "output_type": "execute_result",
     "data": {
      "text/plain": "['onions', 'pepper', 'olives', 'jalapeneos', 'mushrooms']"
     },
     "metadata": {},
     "execution_count": 36
    }
   ],
   "source": [
    "class Pizza:\n",
    "    # Class attribute\n",
    "    info = \"This ia a Pizza Class!\"\n",
    "\n",
    "    # Defining slots\n",
    "    __slots__ = ['type_', 'size', 'shape']\n",
    "\n",
    "    # instance attribute\n",
    "    def __init__(self, type_, size):\n",
    "        self.type_ = type_\n",
    "        self.shape = 'round'  # Default value\n",
    "        self.size = size\n",
    "\n",
    "    @staticmethod\n",
    "    def get_veggie_ingredients():\n",
    "        list_ingredients = ['onions', 'pepper', 'olives', 'jalapeneos', 'mushrooms']\n",
    "        return list_ingredients\n",
    "\n",
    "# get the static method without inititaing the class\n",
    "Pizza.get_veggie_ingredients()"
   ]
  },
  {
   "cell_type": "markdown",
   "metadata": {},
   "source": [
    "## Class Method\n",
    "- Class method can access or modify class state\n",
    "- First parameter is class instance"
   ]
  },
  {
   "cell_type": "code",
   "execution_count": 42,
   "metadata": {
    "tags": []
   },
   "outputs": [
    {
     "output_type": "stream",
     "name": "stdout",
     "text": "Veggie Pizza ordered of Medium size and Triangle shape.\n"
    }
   ],
   "source": [
    "class Pizza:\n",
    "    # Class attribute\n",
    "    info = \"This ia a Pizza Class!\"\n",
    "\n",
    "    # Defining slots\n",
    "    __slots__ = ['type_', 'size', 'shape']\n",
    "\n",
    "    # instance attribute\n",
    "    def __init__(self, type_, size, shape='round'):\n",
    "        self.type_ = type_\n",
    "        self.shape = shape\n",
    "        self.size = size\n",
    "\n",
    "    @staticmethod\n",
    "    def get_veggie_ingredients():\n",
    "        list_ingredients = ['onions', 'pepper', 'olives', 'jalapeneos', 'mushrooms']\n",
    "        return list_ingredients\n",
    "\n",
    "    @classmethod\n",
    "    def determine_size(cls, type_, size, shape):\n",
    "        if size <=14:\n",
    "            return cls(type_, 'medium', shape)\n",
    "        else:\n",
    "            return cls(type_, 'large', shape)\n",
    "\n",
    "# get the static method without inititaing the class\n",
    "obj = Pizza.determine_size('veggie', 12, 'triangle')\n",
    "print(f\"{obj.type_.title()} Pizza ordered of {obj.size.title()} size and {obj.shape.title()} shape.\")"
   ]
  }
 ]
}